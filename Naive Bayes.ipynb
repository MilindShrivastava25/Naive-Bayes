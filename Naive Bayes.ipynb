{
 "cells": [
  {
   "cell_type": "markdown",
   "id": "b1aed113-ac5c-4c69-8077-c092dc2e6a0d",
   "metadata": {},
   "source": [
    "## 1. Data Exploration and Preprocessing\n",
    "•\tLoad the \"blogs_categories.csv\" dataset and perform an exploratory data analysis to understand its structure and content.\n",
    "\n",
    "•\tPreprocess the data by cleaning the text (removing punctuation, converting to lowercase, etc.), tokenizing, and removing stopwords.\n",
    "\n",
    "•\tPerform feature extraction to convert text data into a format that can be used by the Naive Bayes model, using techniques such as TF-IDF.\n"
   ]
  },
  {
   "cell_type": "code",
   "execution_count": 71,
   "id": "7c1834d4-2b35-46fc-8b3f-5f932ab04913",
   "metadata": {},
   "outputs": [],
   "source": [
    "import pandas as pd\n",
    "import numpy as np\n",
    "import matplotlib.pyplot as plt\n",
    "import seaborn as sns\n",
    "from sklearn.model_selection import train_test_split\n",
    "from sklearn.metrics import accuracy_score, classification_report\n",
    "from sklearn.naive_bayes import MultinomialNB\n",
    "from sklearn.feature_extraction.text import TfidfTransformer, TfidfVectorizer\n",
    "import warnings \n",
    "warnings.filterwarnings('ignore')"
   ]
  },
  {
   "cell_type": "code",
   "execution_count": 70,
   "id": "7e1c8a84-0f72-4a30-953c-d22ee5f2b03d",
   "metadata": {},
   "outputs": [],
   "source": [
    "from nltk.corpus import stopwords\n",
    "from nltk.tokenize import word_tokenize\n",
    "import string\n",
    "import nltk"
   ]
  },
  {
   "cell_type": "code",
   "execution_count": 61,
   "id": "c13c1cc1-8f0d-4761-9518-173654311474",
   "metadata": {},
   "outputs": [
    {
     "data": {
      "text/html": [
       "<div>\n",
       "<style scoped>\n",
       "    .dataframe tbody tr th:only-of-type {\n",
       "        vertical-align: middle;\n",
       "    }\n",
       "\n",
       "    .dataframe tbody tr th {\n",
       "        vertical-align: top;\n",
       "    }\n",
       "\n",
       "    .dataframe thead th {\n",
       "        text-align: right;\n",
       "    }\n",
       "</style>\n",
       "<table border=\"1\" class=\"dataframe\">\n",
       "  <thead>\n",
       "    <tr style=\"text-align: right;\">\n",
       "      <th></th>\n",
       "      <th>Unnamed: 0</th>\n",
       "      <th>Data</th>\n",
       "      <th>Labels</th>\n",
       "    </tr>\n",
       "  </thead>\n",
       "  <tbody>\n",
       "    <tr>\n",
       "      <th>0</th>\n",
       "      <td>0</td>\n",
       "      <td>Xref: cantaloupe.srv.cs.cmu.edu alt.atheism:49...</td>\n",
       "      <td>alt.atheism</td>\n",
       "    </tr>\n",
       "    <tr>\n",
       "      <th>1</th>\n",
       "      <td>1</td>\n",
       "      <td>Xref: cantaloupe.srv.cs.cmu.edu alt.atheism:51...</td>\n",
       "      <td>alt.atheism</td>\n",
       "    </tr>\n",
       "    <tr>\n",
       "      <th>2</th>\n",
       "      <td>2</td>\n",
       "      <td>Newsgroups: alt.atheism\\nPath: cantaloupe.srv....</td>\n",
       "      <td>alt.atheism</td>\n",
       "    </tr>\n",
       "    <tr>\n",
       "      <th>3</th>\n",
       "      <td>3</td>\n",
       "      <td>Xref: cantaloupe.srv.cs.cmu.edu alt.atheism:51...</td>\n",
       "      <td>alt.atheism</td>\n",
       "    </tr>\n",
       "    <tr>\n",
       "      <th>4</th>\n",
       "      <td>4</td>\n",
       "      <td>Xref: cantaloupe.srv.cs.cmu.edu alt.atheism:51...</td>\n",
       "      <td>alt.atheism</td>\n",
       "    </tr>\n",
       "  </tbody>\n",
       "</table>\n",
       "</div>"
      ],
      "text/plain": [
       "   Unnamed: 0                                               Data       Labels\n",
       "0           0  Xref: cantaloupe.srv.cs.cmu.edu alt.atheism:49...  alt.atheism\n",
       "1           1  Xref: cantaloupe.srv.cs.cmu.edu alt.atheism:51...  alt.atheism\n",
       "2           2  Newsgroups: alt.atheism\\nPath: cantaloupe.srv....  alt.atheism\n",
       "3           3  Xref: cantaloupe.srv.cs.cmu.edu alt.atheism:51...  alt.atheism\n",
       "4           4  Xref: cantaloupe.srv.cs.cmu.edu alt.atheism:51...  alt.atheism"
      ]
     },
     "execution_count": 61,
     "metadata": {},
     "output_type": "execute_result"
    }
   ],
   "source": [
    "df = pd.read_csv('blogs_categories.csv')\n",
    "df.head()"
   ]
  },
  {
   "cell_type": "code",
   "execution_count": 62,
   "id": "bc2ad79a-9ba8-4cd7-b2d5-33f5285e9051",
   "metadata": {},
   "outputs": [
    {
     "data": {
      "text/html": [
       "<div>\n",
       "<style scoped>\n",
       "    .dataframe tbody tr th:only-of-type {\n",
       "        vertical-align: middle;\n",
       "    }\n",
       "\n",
       "    .dataframe tbody tr th {\n",
       "        vertical-align: top;\n",
       "    }\n",
       "\n",
       "    .dataframe thead th {\n",
       "        text-align: right;\n",
       "    }\n",
       "</style>\n",
       "<table border=\"1\" class=\"dataframe\">\n",
       "  <thead>\n",
       "    <tr style=\"text-align: right;\">\n",
       "      <th></th>\n",
       "      <th>Unnamed: 0</th>\n",
       "    </tr>\n",
       "  </thead>\n",
       "  <tbody>\n",
       "    <tr>\n",
       "      <th>count</th>\n",
       "      <td>19997.000000</td>\n",
       "    </tr>\n",
       "    <tr>\n",
       "      <th>mean</th>\n",
       "      <td>9998.000000</td>\n",
       "    </tr>\n",
       "    <tr>\n",
       "      <th>std</th>\n",
       "      <td>5772.781002</td>\n",
       "    </tr>\n",
       "    <tr>\n",
       "      <th>min</th>\n",
       "      <td>0.000000</td>\n",
       "    </tr>\n",
       "    <tr>\n",
       "      <th>25%</th>\n",
       "      <td>4999.000000</td>\n",
       "    </tr>\n",
       "    <tr>\n",
       "      <th>50%</th>\n",
       "      <td>9998.000000</td>\n",
       "    </tr>\n",
       "    <tr>\n",
       "      <th>75%</th>\n",
       "      <td>14997.000000</td>\n",
       "    </tr>\n",
       "    <tr>\n",
       "      <th>max</th>\n",
       "      <td>19996.000000</td>\n",
       "    </tr>\n",
       "  </tbody>\n",
       "</table>\n",
       "</div>"
      ],
      "text/plain": [
       "         Unnamed: 0\n",
       "count  19997.000000\n",
       "mean    9998.000000\n",
       "std     5772.781002\n",
       "min        0.000000\n",
       "25%     4999.000000\n",
       "50%     9998.000000\n",
       "75%    14997.000000\n",
       "max    19996.000000"
      ]
     },
     "execution_count": 62,
     "metadata": {},
     "output_type": "execute_result"
    }
   ],
   "source": [
    "df.describe()"
   ]
  },
  {
   "cell_type": "code",
   "execution_count": 63,
   "id": "c82d0c73-cb48-41e2-98ce-d881ec034106",
   "metadata": {},
   "outputs": [
    {
     "name": "stdout",
     "output_type": "stream",
     "text": [
      "<class 'pandas.core.frame.DataFrame'>\n",
      "RangeIndex: 19997 entries, 0 to 19996\n",
      "Data columns (total 3 columns):\n",
      " #   Column      Non-Null Count  Dtype \n",
      "---  ------      --------------  ----- \n",
      " 0   Unnamed: 0  19997 non-null  int64 \n",
      " 1   Data        19997 non-null  object\n",
      " 2   Labels      19997 non-null  object\n",
      "dtypes: int64(1), object(2)\n",
      "memory usage: 468.8+ KB\n"
     ]
    }
   ],
   "source": [
    "df.info()"
   ]
  },
  {
   "cell_type": "code",
   "execution_count": 64,
   "id": "af01c395-6c55-4351-a987-af07bad3f8d9",
   "metadata": {},
   "outputs": [
    {
     "data": {
      "text/html": [
       "<div>\n",
       "<style scoped>\n",
       "    .dataframe tbody tr th:only-of-type {\n",
       "        vertical-align: middle;\n",
       "    }\n",
       "\n",
       "    .dataframe tbody tr th {\n",
       "        vertical-align: top;\n",
       "    }\n",
       "\n",
       "    .dataframe thead th {\n",
       "        text-align: right;\n",
       "    }\n",
       "</style>\n",
       "<table border=\"1\" class=\"dataframe\">\n",
       "  <thead>\n",
       "    <tr style=\"text-align: right;\">\n",
       "      <th></th>\n",
       "      <th>Unnamed: 0</th>\n",
       "      <th>Data</th>\n",
       "      <th>Labels</th>\n",
       "      <th>len</th>\n",
       "    </tr>\n",
       "  </thead>\n",
       "  <tbody>\n",
       "    <tr>\n",
       "      <th>0</th>\n",
       "      <td>0</td>\n",
       "      <td>Xref: cantaloupe.srv.cs.cmu.edu alt.atheism:49...</td>\n",
       "      <td>alt.atheism</td>\n",
       "      <td>11</td>\n",
       "    </tr>\n",
       "    <tr>\n",
       "      <th>1</th>\n",
       "      <td>1</td>\n",
       "      <td>Xref: cantaloupe.srv.cs.cmu.edu alt.atheism:51...</td>\n",
       "      <td>alt.atheism</td>\n",
       "      <td>11</td>\n",
       "    </tr>\n",
       "    <tr>\n",
       "      <th>2</th>\n",
       "      <td>2</td>\n",
       "      <td>Newsgroups: alt.atheism\\nPath: cantaloupe.srv....</td>\n",
       "      <td>alt.atheism</td>\n",
       "      <td>11</td>\n",
       "    </tr>\n",
       "    <tr>\n",
       "      <th>3</th>\n",
       "      <td>3</td>\n",
       "      <td>Xref: cantaloupe.srv.cs.cmu.edu alt.atheism:51...</td>\n",
       "      <td>alt.atheism</td>\n",
       "      <td>11</td>\n",
       "    </tr>\n",
       "    <tr>\n",
       "      <th>4</th>\n",
       "      <td>4</td>\n",
       "      <td>Xref: cantaloupe.srv.cs.cmu.edu alt.atheism:51...</td>\n",
       "      <td>alt.atheism</td>\n",
       "      <td>11</td>\n",
       "    </tr>\n",
       "    <tr>\n",
       "      <th>...</th>\n",
       "      <td>...</td>\n",
       "      <td>...</td>\n",
       "      <td>...</td>\n",
       "      <td>...</td>\n",
       "    </tr>\n",
       "    <tr>\n",
       "      <th>19992</th>\n",
       "      <td>19992</td>\n",
       "      <td>Xref: cantaloupe.srv.cs.cmu.edu alt.atheism:54...</td>\n",
       "      <td>talk.religion.misc</td>\n",
       "      <td>18</td>\n",
       "    </tr>\n",
       "    <tr>\n",
       "      <th>19993</th>\n",
       "      <td>19993</td>\n",
       "      <td>Xref: cantaloupe.srv.cs.cmu.edu alt.atheism:54...</td>\n",
       "      <td>talk.religion.misc</td>\n",
       "      <td>18</td>\n",
       "    </tr>\n",
       "    <tr>\n",
       "      <th>19994</th>\n",
       "      <td>19994</td>\n",
       "      <td>Xref: cantaloupe.srv.cs.cmu.edu talk.religion....</td>\n",
       "      <td>talk.religion.misc</td>\n",
       "      <td>18</td>\n",
       "    </tr>\n",
       "    <tr>\n",
       "      <th>19995</th>\n",
       "      <td>19995</td>\n",
       "      <td>Xref: cantaloupe.srv.cs.cmu.edu talk.religion....</td>\n",
       "      <td>talk.religion.misc</td>\n",
       "      <td>18</td>\n",
       "    </tr>\n",
       "    <tr>\n",
       "      <th>19996</th>\n",
       "      <td>19996</td>\n",
       "      <td>Xref: cantaloupe.srv.cs.cmu.edu talk.abortion:...</td>\n",
       "      <td>talk.religion.misc</td>\n",
       "      <td>18</td>\n",
       "    </tr>\n",
       "  </tbody>\n",
       "</table>\n",
       "<p>19997 rows × 4 columns</p>\n",
       "</div>"
      ],
      "text/plain": [
       "       Unnamed: 0                                               Data  \\\n",
       "0               0  Xref: cantaloupe.srv.cs.cmu.edu alt.atheism:49...   \n",
       "1               1  Xref: cantaloupe.srv.cs.cmu.edu alt.atheism:51...   \n",
       "2               2  Newsgroups: alt.atheism\\nPath: cantaloupe.srv....   \n",
       "3               3  Xref: cantaloupe.srv.cs.cmu.edu alt.atheism:51...   \n",
       "4               4  Xref: cantaloupe.srv.cs.cmu.edu alt.atheism:51...   \n",
       "...           ...                                                ...   \n",
       "19992       19992  Xref: cantaloupe.srv.cs.cmu.edu alt.atheism:54...   \n",
       "19993       19993  Xref: cantaloupe.srv.cs.cmu.edu alt.atheism:54...   \n",
       "19994       19994  Xref: cantaloupe.srv.cs.cmu.edu talk.religion....   \n",
       "19995       19995  Xref: cantaloupe.srv.cs.cmu.edu talk.religion....   \n",
       "19996       19996  Xref: cantaloupe.srv.cs.cmu.edu talk.abortion:...   \n",
       "\n",
       "                   Labels  len  \n",
       "0             alt.atheism   11  \n",
       "1             alt.atheism   11  \n",
       "2             alt.atheism   11  \n",
       "3             alt.atheism   11  \n",
       "4             alt.atheism   11  \n",
       "...                   ...  ...  \n",
       "19992  talk.religion.misc   18  \n",
       "19993  talk.religion.misc   18  \n",
       "19994  talk.religion.misc   18  \n",
       "19995  talk.religion.misc   18  \n",
       "19996  talk.religion.misc   18  \n",
       "\n",
       "[19997 rows x 4 columns]"
      ]
     },
     "execution_count": 64,
     "metadata": {},
     "output_type": "execute_result"
    }
   ],
   "source": [
    "df['len'] = df['Labels'].apply(len)\n",
    "df"
   ]
  },
  {
   "cell_type": "code",
   "execution_count": 65,
   "id": "f78c5f5f-6a1a-429e-a4d9-39902d9822ae",
   "metadata": {},
   "outputs": [
    {
     "data": {
      "text/plain": [
       "array([[<Axes: title={'center': 'len'}>]], dtype=object)"
      ]
     },
     "execution_count": 65,
     "metadata": {},
     "output_type": "execute_result"
    },
    {
     "data": {
      "image/png": "[encoded data removed]",
      "text/plain": [
       "<Figure size 640x480 with 1 Axes>"
      ]
     },
     "metadata": {},
     "output_type": "display_data"
    }
   ],
   "source": [
    "df.hist('len',bins=25)"
   ]
  },
  {
   "cell_type": "code",
   "execution_count": 66,
   "id": "b7ce6ddc-b6df-4f4b-b9d5-7162e63003a6",
   "metadata": {},
   "outputs": [],
   "source": [
    "def clean(text):\n",
    "    text = text.lower()\n",
    "    text = text.translate(str.maketrans('','',string.punctuation))\n",
    "    token = word_tokenize(text)\n",
    "    token = [x for x in token if x not in stopwords.words('english')]\n",
    "    return ' '.join(token)"
   ]
  },
  {
   "cell_type": "code",
   "execution_count": 67,
   "id": "17bd8640-a2bc-4b46-98c3-32783a74faaf",
   "metadata": {},
   "outputs": [],
   "source": [
    "df['Data'] = df['Data'].apply(clean)"
   ]
  },
  {
   "cell_type": "code",
   "execution_count": 76,
   "id": "1e72a1ff-4b75-4fbc-8328-22288addba0f",
   "metadata": {},
   "outputs": [],
   "source": [
    "tfidf = TfidfVectorizer(max_features=2500)"
   ]
  },
  {
   "cell_type": "code",
   "execution_count": 77,
   "id": "ed0dc00f-92e0-44ba-9662-2335dcfe9aca",
   "metadata": {},
   "outputs": [],
   "source": [
    "x = tfidf.fit_transform(df['Data']).toarray()\n",
    "y = df['Labels']"
   ]
  },
  {
   "cell_type": "markdown",
   "id": "3b596c19-824e-4cff-908f-86fb35d51f44",
   "metadata": {},
   "source": [
    "## 2. Naive Bayes Model for Text Classification\n",
    "•\tSplit the data into training and test sets.\n",
    "\n",
    "•\tImplement a Naive Bayes classifier to categorize the blog posts into their respective categories. You can use libraries like scikit-learn for this purpose.\n",
    "\n",
    "•\tTrain the model on the training set and make predictions on the test set\n"
   ]
  },
  {
   "cell_type": "code",
   "execution_count": 78,
   "id": "92fef496-dfd5-42eb-ab3d-d99addad5bcc",
   "metadata": {},
   "outputs": [],
   "source": [
    "x_train,x_test,y_train,y_test = train_test_split(x,y,train_size=0.75,random_state=100)"
   ]
  },
  {
   "cell_type": "code",
   "execution_count": 79,
   "id": "a1a83b03-b929-4c1a-9047-08ac45af1c50",
   "metadata": {},
   "outputs": [],
   "source": [
    "nb = MultinomialNB()"
   ]
  },
  {
   "cell_type": "code",
   "execution_count": 80,
   "id": "894c1db4-61a7-467f-9fe0-f5ddffd27c81",
   "metadata": {},
   "outputs": [
    {
     "data": {
      "text/html": [
       "<style>#sk-container-id-1 {color: black;background-color: white;}#sk-container-id-1 pre{padding: 0;}#sk-container-id-1 div.sk-toggleable {background-color: white;}#sk-container-id-1 label.sk-toggleable__label {cursor: pointer;display: block;width: 100%;margin-bottom: 0;padding: 0.3em;box-sizing: border-box;text-align: center;}#sk-container-id-1 label.sk-toggleable__label-arrow:before {content: \"▸\";float: left;margin-right: 0.25em;color: #696969;}#sk-container-id-1 label.sk-toggleable__label-arrow:hover:before {color: black;}#sk-container-id-1 div.sk-estimator:hover label.sk-toggleable__label-arrow:before {color: black;}#sk-container-id-1 div.sk-toggleable__content {max-height: 0;max-width: 0;overflow: hidden;text-align: left;background-color: #f0f8ff;}#sk-container-id-1 div.sk-toggleable__content pre {margin: 0.2em;color: black;border-radius: 0.25em;background-color: #f0f8ff;}#sk-container-id-1 input.sk-toggleable__control:checked~div.sk-toggleable__content {max-height: 200px;max-width: 100%;overflow: auto;}#sk-container-id-1 input.sk-toggleable__control:checked~label.sk-toggleable__label-arrow:before {content: \"▾\";}#sk-container-id-1 div.sk-estimator input.sk-toggleable__control:checked~label.sk-toggleable__label {background-color: #d4ebff;}#sk-container-id-1 div.sk-label input.sk-toggleable__control:checked~label.sk-toggleable__label {background-color: #d4ebff;}#sk-container-id-1 input.sk-hidden--visually {border: 0;clip: rect(1px 1px 1px 1px);clip: rect(1px, 1px, 1px, 1px);height: 1px;margin: -1px;overflow: hidden;padding: 0;position: absolute;width: 1px;}#sk-container-id-1 div.sk-estimator {font-family: monospace;background-color: #f0f8ff;border: 1px dotted black;border-radius: 0.25em;box-sizing: border-box;margin-bottom: 0.5em;}#sk-container-id-1 div.sk-estimator:hover {background-color: #d4ebff;}#sk-container-id-1 div.sk-parallel-item::after {content: \"\";width: 100%;border-bottom: 1px solid gray;flex-grow: 1;}#sk-container-id-1 div.sk-label:hover label.sk-toggleable__label {background-color: #d4ebff;}#sk-container-id-1 div.sk-serial::before {content: \"\";position: absolute;border-left: 1px solid gray;box-sizing: border-box;top: 0;bottom: 0;left: 50%;z-index: 0;}#sk-container-id-1 div.sk-serial {display: flex;flex-direction: column;align-items: center;background-color: white;padding-right: 0.2em;padding-left: 0.2em;position: relative;}#sk-container-id-1 div.sk-item {position: relative;z-index: 1;}#sk-container-id-1 div.sk-parallel {display: flex;align-items: stretch;justify-content: center;background-color: white;position: relative;}#sk-container-id-1 div.sk-item::before, #sk-container-id-1 div.sk-parallel-item::before {content: \"\";position: absolute;border-left: 1px solid gray;box-sizing: border-box;top: 0;bottom: 0;left: 50%;z-index: -1;}#sk-container-id-1 div.sk-parallel-item {display: flex;flex-direction: column;z-index: 1;position: relative;background-color: white;}#sk-container-id-1 div.sk-parallel-item:first-child::after {align-self: flex-end;width: 50%;}#sk-container-id-1 div.sk-parallel-item:last-child::after {align-self: flex-start;width: 50%;}#sk-container-id-1 div.sk-parallel-item:only-child::after {width: 0;}#sk-container-id-1 div.sk-dashed-wrapped {border: 1px dashed gray;margin: 0 0.4em 0.5em 0.4em;box-sizing: border-box;padding-bottom: 0.4em;background-color: white;}#sk-container-id-1 div.sk-label label {font-family: monospace;font-weight: bold;display: inline-block;line-height: 1.2em;}#sk-container-id-1 div.sk-label-container {text-align: center;}#sk-container-id-1 div.sk-container {/* jupyter's `normalize.less` sets `[hidden] { display: none; }` but bootstrap.min.css set `[hidden] { display: none !important; }` so we also need the `!important` here to be able to override the default hidden behavior on the sphinx rendered scikit-learn.org. See: https://github.com/scikit-learn/scikit-learn/issues/21755 */display: inline-block !important;position: relative;}#sk-container-id-1 div.sk-text-repr-fallback {display: none;}</style><div id=\"sk-container-id-1\" class=\"sk-top-container\"><div class=\"sk-text-repr-fallback\"><pre>MultinomialNB()</pre><b>In a Jupyter environment, please rerun this cell to show the HTML representation or trust the notebook. <br />On GitHub, the HTML representation is unable to render, please try loading this page with nbviewer.org.</b></div><div class=\"sk-container\" hidden><div class=\"sk-item\"><div class=\"sk-estimator sk-toggleable\"><input class=\"sk-toggleable__control sk-hidden--visually\" id=\"sk-estimator-id-1\" type=\"checkbox\" checked><label for=\"sk-estimator-id-1\" class=\"sk-toggleable__label sk-toggleable__label-arrow\">MultinomialNB</label><div class=\"sk-toggleable__content\"><pre>MultinomialNB()</pre></div></div></div></div></div>"
      ],
      "text/plain": [
       "MultinomialNB()"
      ]
     },
     "execution_count": 80,
     "metadata": {},
     "output_type": "execute_result"
    }
   ],
   "source": [
    "nb.fit(x_train,y_train)"
   ]
  },
  {
   "cell_type": "code",
   "execution_count": 81,
   "id": "549064f7-bd73-4636-9568-d9a76b2c505e",
   "metadata": {},
   "outputs": [],
   "source": [
    "y_pred = nb.predict(x_test)"
   ]
  },
  {
   "cell_type": "code",
   "execution_count": 82,
   "id": "c8116b21-b514-4566-89e2-ce7c0af38912",
   "metadata": {},
   "outputs": [
    {
     "data": {
      "text/plain": [
       "0.8664"
      ]
     },
     "execution_count": 82,
     "metadata": {},
     "output_type": "execute_result"
    }
   ],
   "source": [
    "accuracy_score(y_test,y_pred)"
   ]
  },
  {
   "cell_type": "code",
   "execution_count": 83,
   "id": "4921d9f3-2d3a-4042-8bee-fa08a56e04b1",
   "metadata": {},
   "outputs": [
    {
     "name": "stdout",
     "output_type": "stream",
     "text": [
      "                          precision    recall  f1-score   support\n",
      "\n",
      "             alt.atheism       0.76      0.82      0.79       257\n",
      "           comp.graphics       0.80      0.87      0.83       252\n",
      " comp.os.ms-windows.misc       0.86      0.85      0.86       283\n",
      "comp.sys.ibm.pc.hardware       0.84      0.78      0.81       263\n",
      "   comp.sys.mac.hardware       0.88      0.89      0.89       229\n",
      "          comp.windows.x       0.86      0.91      0.89       238\n",
      "            misc.forsale       0.84      0.88      0.86       256\n",
      "               rec.autos       0.87      0.92      0.90       254\n",
      "         rec.motorcycles       0.95      0.93      0.94       263\n",
      "      rec.sport.baseball       0.94      0.95      0.95       256\n",
      "        rec.sport.hockey       0.97      0.97      0.97       258\n",
      "               sci.crypt       0.96      0.90      0.93       242\n",
      "         sci.electronics       0.86      0.87      0.87       242\n",
      "                 sci.med       0.92      0.92      0.92       238\n",
      "               sci.space       0.93      0.93      0.93       245\n",
      "  soc.religion.christian       0.89      0.99      0.94       245\n",
      "      talk.politics.guns       0.73      0.90      0.80       244\n",
      "   talk.politics.mideast       0.94      0.92      0.93       255\n",
      "      talk.politics.misc       0.77      0.66      0.71       240\n",
      "      talk.religion.misc       0.71      0.45      0.55       240\n",
      "\n",
      "                accuracy                           0.87      5000\n",
      "               macro avg       0.86      0.87      0.86      5000\n",
      "            weighted avg       0.87      0.87      0.86      5000\n",
      "\n"
     ]
    }
   ],
   "source": [
    "print(classification_report(y_test,y_pred))"
   ]
  },
  {
   "cell_type": "markdown",
   "id": "a927cb73-8395-4c27-bac2-d3233fe437ad",
   "metadata": {},
   "source": [
    "## 3. Sentiment Analysis\n",
    "•\tChoose a suitable library or method for performing sentiment analysis on the blog post texts.\n",
    "\n",
    "•\tAnalyze the sentiments expressed in the blog posts and categorize them as positive, negative, or neutral. Consider only the Data column and get the sentiment for each blog.\n",
    "\n",
    "•\tExamine the distribution of sentiments across different categories and summarize your findings.\n",
    "\n",
    "## 4. Evaluation\n",
    "•\tEvaluate the performance of your Naive Bayes classifier using metrics such as accuracy, precision, recall, and F1-score.\n",
    "\n",
    "•\tDiscuss the performance of the model and any challenges encountered during the classification process.\n",
    "\n",
    "•\tReflect on the sentiment analysis results and their implications regarding the content of the blog posts.\n"
   ]
  },
  {
   "cell_type": "code",
   "execution_count": 84,
   "id": "1e99ce1d-817e-45cd-874c-ab494c1cfcb3",
   "metadata": {},
   "outputs": [],
   "source": [
    "from textblob import TextBlob"
   ]
  },
  {
   "cell_type": "code",
   "execution_count": 85,
   "id": "6c19aa70-e40c-4950-8638-c3737b6d934b",
   "metadata": {},
   "outputs": [],
   "source": [
    "def sentiment(text):\n",
    "    analysis = TextBlob(text)\n",
    "    if analysis.sentiment.polarity>0:\n",
    "        return 'Positive'\n",
    "    if analysis.sentiment.polarity<0:\n",
    "        return 'Negative'\n",
    "    else:\n",
    "        return 'Netural'"
   ]
  },
  {
   "cell_type": "code",
   "execution_count": 86,
   "id": "986c83c6-d431-4cdc-a2d5-c27dcc1b4439",
   "metadata": {},
   "outputs": [],
   "source": [
    "df['sentiment'] = df['Data'].apply(sentiment)"
   ]
  },
  {
   "cell_type": "code",
   "execution_count": 88,
   "id": "243bffd1-3b44-4613-96d5-9ad808561c6e",
   "metadata": {},
   "outputs": [
    {
     "name": "stdout",
     "output_type": "stream",
     "text": [
      "sentiment                 Negative  Netural  Positive\n",
      "Labels                                               \n",
      "alt.atheism               0.285000    0.000  0.715000\n",
      "comp.graphics             0.263000    0.001  0.736000\n",
      "comp.os.ms-windows.misc   0.259000    0.000  0.741000\n",
      "comp.sys.ibm.pc.hardware  0.255000    0.002  0.743000\n",
      "comp.sys.mac.hardware     0.274000    0.000  0.726000\n",
      "comp.windows.x            0.282000    0.005  0.713000\n",
      "misc.forsale              0.231000    0.000  0.769000\n",
      "rec.autos                 0.254000    0.002  0.744000\n",
      "rec.motorcycles           0.345000    0.000  0.655000\n",
      "rec.sport.baseball        0.312000    0.001  0.687000\n",
      "rec.sport.hockey          0.347000    0.001  0.652000\n",
      "sci.crypt                 0.264000    0.000  0.736000\n",
      "sci.electronics           0.252000    0.000  0.748000\n",
      "sci.med                   0.282000    0.002  0.716000\n",
      "sci.space                 0.276000    0.001  0.723000\n",
      "soc.religion.christian    0.232698    0.000  0.767302\n",
      "talk.politics.guns        0.371000    0.002  0.627000\n",
      "talk.politics.mideast     0.362000    0.000  0.638000\n",
      "talk.politics.misc        0.306000    0.001  0.693000\n",
      "talk.religion.misc        0.272000    0.000  0.728000\n"
     ]
    }
   ],
   "source": [
    "sent_dist = df.groupby('Labels')['sentiment'].value_counts(normalize=True).unstack().fillna(0)\n",
    "print(sent_dist)"
   ]
  },
  {
   "cell_type": "code",
   "execution_count": 89,
   "id": "acfd53fd-d142-4178-83e8-7379c6020c17",
   "metadata": {},
   "outputs": [
    {
     "data": {
      "text/plain": [
       "<Axes: xlabel='Labels'>"
      ]
     },
     "execution_count": 89,
     "metadata": {},
     "output_type": "execute_result"
    },
    {
     "data": {
      "image/png": "[encoded data removed]",
      "text/plain": [
       "<Figure size 640x480 with 1 Axes>"
      ]
     },
     "metadata": {},
     "output_type": "display_data"
    }
   ],
   "source": [
    "sent_dist.plot(kind='bar')"
   ]
  },
  {
   "cell_type": "code",
   "execution_count": 90,
   "id": "83c5b748-02fe-41c8-9ad9-6b920de26ce5",
   "metadata": {},
   "outputs": [
    {
     "name": "stdout",
     "output_type": "stream",
     "text": [
      "                          precision    recall  f1-score   support\n",
      "\n",
      "             alt.atheism       0.76      0.82      0.79       257\n",
      "           comp.graphics       0.80      0.87      0.83       252\n",
      " comp.os.ms-windows.misc       0.86      0.85      0.86       283\n",
      "comp.sys.ibm.pc.hardware       0.84      0.78      0.81       263\n",
      "   comp.sys.mac.hardware       0.88      0.89      0.89       229\n",
      "          comp.windows.x       0.86      0.91      0.89       238\n",
      "            misc.forsale       0.84      0.88      0.86       256\n",
      "               rec.autos       0.87      0.92      0.90       254\n",
      "         rec.motorcycles       0.95      0.93      0.94       263\n",
      "      rec.sport.baseball       0.94      0.95      0.95       256\n",
      "        rec.sport.hockey       0.97      0.97      0.97       258\n",
      "               sci.crypt       0.96      0.90      0.93       242\n",
      "         sci.electronics       0.86      0.87      0.87       242\n",
      "                 sci.med       0.92      0.92      0.92       238\n",
      "               sci.space       0.93      0.93      0.93       245\n",
      "  soc.religion.christian       0.89      0.99      0.94       245\n",
      "      talk.politics.guns       0.73      0.90      0.80       244\n",
      "   talk.politics.mideast       0.94      0.92      0.93       255\n",
      "      talk.politics.misc       0.77      0.66      0.71       240\n",
      "      talk.religion.misc       0.71      0.45      0.55       240\n",
      "\n",
      "                accuracy                           0.87      5000\n",
      "               macro avg       0.86      0.87      0.86      5000\n",
      "            weighted avg       0.87      0.87      0.86      5000\n",
      "\n"
     ]
    }
   ],
   "source": [
    "print(classification_report(y_test,y_pred))"
   ]
  },
  {
   "cell_type": "code",
   "execution_count": 91,
   "id": "a359f0dd-52cf-45e2-b3e2-c07ffd7f987f",
   "metadata": {},
   "outputs": [
    {
     "data": {
      "text/plain": [
       "0.8664"
      ]
     },
     "execution_count": 91,
     "metadata": {},
     "output_type": "execute_result"
    }
   ],
   "source": [
    "accuracy_score(y_test,y_pred)"
   ]
  },
  {
   "cell_type": "code",
   "execution_count": 92,
   "id": "4ccd0edd-b330-4d58-b3ac-93038812a940",
   "metadata": {},
   "outputs": [
    {
     "data": {
      "text/html": [
       "<div>\n",
       "<style scoped>\n",
       "    .dataframe tbody tr th:only-of-type {\n",
       "        vertical-align: middle;\n",
       "    }\n",
       "\n",
       "    .dataframe tbody tr th {\n",
       "        vertical-align: top;\n",
       "    }\n",
       "\n",
       "    .dataframe thead th {\n",
       "        text-align: right;\n",
       "    }\n",
       "</style>\n",
       "<table border=\"1\" class=\"dataframe\">\n",
       "  <thead>\n",
       "    <tr style=\"text-align: right;\">\n",
       "      <th>sentiment</th>\n",
       "      <th>Negative</th>\n",
       "      <th>Netural</th>\n",
       "      <th>Positive</th>\n",
       "    </tr>\n",
       "    <tr>\n",
       "      <th>Labels</th>\n",
       "      <th></th>\n",
       "      <th></th>\n",
       "      <th></th>\n",
       "    </tr>\n",
       "  </thead>\n",
       "  <tbody>\n",
       "    <tr>\n",
       "      <th>alt.atheism</th>\n",
       "      <td>0.285000</td>\n",
       "      <td>0.000</td>\n",
       "      <td>0.715000</td>\n",
       "    </tr>\n",
       "    <tr>\n",
       "      <th>comp.graphics</th>\n",
       "      <td>0.263000</td>\n",
       "      <td>0.001</td>\n",
       "      <td>0.736000</td>\n",
       "    </tr>\n",
       "    <tr>\n",
       "      <th>comp.os.ms-windows.misc</th>\n",
       "      <td>0.259000</td>\n",
       "      <td>0.000</td>\n",
       "      <td>0.741000</td>\n",
       "    </tr>\n",
       "    <tr>\n",
       "      <th>comp.sys.ibm.pc.hardware</th>\n",
       "      <td>0.255000</td>\n",
       "      <td>0.002</td>\n",
       "      <td>0.743000</td>\n",
       "    </tr>\n",
       "    <tr>\n",
       "      <th>comp.sys.mac.hardware</th>\n",
       "      <td>0.274000</td>\n",
       "      <td>0.000</td>\n",
       "      <td>0.726000</td>\n",
       "    </tr>\n",
       "    <tr>\n",
       "      <th>comp.windows.x</th>\n",
       "      <td>0.282000</td>\n",
       "      <td>0.005</td>\n",
       "      <td>0.713000</td>\n",
       "    </tr>\n",
       "    <tr>\n",
       "      <th>misc.forsale</th>\n",
       "      <td>0.231000</td>\n",
       "      <td>0.000</td>\n",
       "      <td>0.769000</td>\n",
       "    </tr>\n",
       "    <tr>\n",
       "      <th>rec.autos</th>\n",
       "      <td>0.254000</td>\n",
       "      <td>0.002</td>\n",
       "      <td>0.744000</td>\n",
       "    </tr>\n",
       "    <tr>\n",
       "      <th>rec.motorcycles</th>\n",
       "      <td>0.345000</td>\n",
       "      <td>0.000</td>\n",
       "      <td>0.655000</td>\n",
       "    </tr>\n",
       "    <tr>\n",
       "      <th>rec.sport.baseball</th>\n",
       "      <td>0.312000</td>\n",
       "      <td>0.001</td>\n",
       "      <td>0.687000</td>\n",
       "    </tr>\n",
       "    <tr>\n",
       "      <th>rec.sport.hockey</th>\n",
       "      <td>0.347000</td>\n",
       "      <td>0.001</td>\n",
       "      <td>0.652000</td>\n",
       "    </tr>\n",
       "    <tr>\n",
       "      <th>sci.crypt</th>\n",
       "      <td>0.264000</td>\n",
       "      <td>0.000</td>\n",
       "      <td>0.736000</td>\n",
       "    </tr>\n",
       "    <tr>\n",
       "      <th>sci.electronics</th>\n",
       "      <td>0.252000</td>\n",
       "      <td>0.000</td>\n",
       "      <td>0.748000</td>\n",
       "    </tr>\n",
       "    <tr>\n",
       "      <th>sci.med</th>\n",
       "      <td>0.282000</td>\n",
       "      <td>0.002</td>\n",
       "      <td>0.716000</td>\n",
       "    </tr>\n",
       "    <tr>\n",
       "      <th>sci.space</th>\n",
       "      <td>0.276000</td>\n",
       "      <td>0.001</td>\n",
       "      <td>0.723000</td>\n",
       "    </tr>\n",
       "    <tr>\n",
       "      <th>soc.religion.christian</th>\n",
       "      <td>0.232698</td>\n",
       "      <td>0.000</td>\n",
       "      <td>0.767302</td>\n",
       "    </tr>\n",
       "    <tr>\n",
       "      <th>talk.politics.guns</th>\n",
       "      <td>0.371000</td>\n",
       "      <td>0.002</td>\n",
       "      <td>0.627000</td>\n",
       "    </tr>\n",
       "    <tr>\n",
       "      <th>talk.politics.mideast</th>\n",
       "      <td>0.362000</td>\n",
       "      <td>0.000</td>\n",
       "      <td>0.638000</td>\n",
       "    </tr>\n",
       "    <tr>\n",
       "      <th>talk.politics.misc</th>\n",
       "      <td>0.306000</td>\n",
       "      <td>0.001</td>\n",
       "      <td>0.693000</td>\n",
       "    </tr>\n",
       "    <tr>\n",
       "      <th>talk.religion.misc</th>\n",
       "      <td>0.272000</td>\n",
       "      <td>0.000</td>\n",
       "      <td>0.728000</td>\n",
       "    </tr>\n",
       "  </tbody>\n",
       "</table>\n",
       "</div>"
      ],
      "text/plain": [
       "sentiment                 Negative  Netural  Positive\n",
       "Labels                                               \n",
       "alt.atheism               0.285000    0.000  0.715000\n",
       "comp.graphics             0.263000    0.001  0.736000\n",
       "comp.os.ms-windows.misc   0.259000    0.000  0.741000\n",
       "comp.sys.ibm.pc.hardware  0.255000    0.002  0.743000\n",
       "comp.sys.mac.hardware     0.274000    0.000  0.726000\n",
       "comp.windows.x            0.282000    0.005  0.713000\n",
       "misc.forsale              0.231000    0.000  0.769000\n",
       "rec.autos                 0.254000    0.002  0.744000\n",
       "rec.motorcycles           0.345000    0.000  0.655000\n",
       "rec.sport.baseball        0.312000    0.001  0.687000\n",
       "rec.sport.hockey          0.347000    0.001  0.652000\n",
       "sci.crypt                 0.264000    0.000  0.736000\n",
       "sci.electronics           0.252000    0.000  0.748000\n",
       "sci.med                   0.282000    0.002  0.716000\n",
       "sci.space                 0.276000    0.001  0.723000\n",
       "soc.religion.christian    0.232698    0.000  0.767302\n",
       "talk.politics.guns        0.371000    0.002  0.627000\n",
       "talk.politics.mideast     0.362000    0.000  0.638000\n",
       "talk.politics.misc        0.306000    0.001  0.693000\n",
       "talk.religion.misc        0.272000    0.000  0.728000"
      ]
     },
     "execution_count": 92,
     "metadata": {},
     "output_type": "execute_result"
    }
   ],
   "source": [
    "sent_dist"
   ]
  },
  {
   "cell_type": "code",
   "execution_count": null,
   "id": "b1189865-b092-4076-a90b-9c65ed8fb6ba",
   "metadata": {},
   "outputs": [],
   "source": []
  }
 ],
 "metadata": {
  "kernelspec": {
   "display_name": "Python 3 (ipykernel)",
   "language": "python",
   "name": "python3"
  },
  "language_info": {
   "codemirror_mode": {
    "name": "ipython",
    "version": 3
   },
   "file_extension": ".py",
   "mimetype": "text/x-python",
   "name": "python",
   "nbconvert_exporter": "python",
   "pygments_lexer": "ipython3",
   "version": "3.11.7"
  }
 },
 "nbformat": 4,
 "nbformat_minor": 5
}
